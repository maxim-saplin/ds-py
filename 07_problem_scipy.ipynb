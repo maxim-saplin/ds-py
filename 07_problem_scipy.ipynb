{
 "cells": [
  {
   "cell_type": "markdown",
   "metadata": {},
   "source": [
    "Let's assume that the data we generate represents the height of the population of age group 16-24 in Canada.\n",
    "Let's fit a curve to it and perform statistical analysis on it.\n",
    "\n",
    "Objective:\n",
    "To fit a line curve on random data by providing initial guesses.\n",
    "\n",
    "Perform the following steps\n",
    "1. Generate 1100 data points between 90 and 200 using numpy arrange function.\n",
    "2. Find the mean and the standard deviation of the array.\n",
    "3. Create random variants of the data using norm.rvs\n",
    "4. Fit a curve (line) on the data using scipy.curve_fit\n",
    "5. Check how it fits, by plotting it against the"
   ]
  },
  {
   "cell_type": "code",
   "execution_count": null,
   "metadata": {
    "vscode": {
     "languageId": "plaintext"
    }
   },
   "outputs": [],
   "source": [
    "import numpy as np\n",
    "import matplotlib.pyplot as plt\n",
    "import seaborn as sns\n",
    "\n",
    "from scipy.stats import norm from scipy optimize import curve_fit\n",
    "import warnings\n",
    "warnings. filterwarnings( 'ignore')\n",
    "smatplotlib"
   ]
  }
 ],
 "metadata": {
  "language_info": {
   "name": "python"
  }
 },
 "nbformat": 4,
 "nbformat_minor": 2
}
