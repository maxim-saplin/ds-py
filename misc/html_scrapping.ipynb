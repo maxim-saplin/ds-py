{
 "cells": [
  {
   "cell_type": "code",
   "execution_count": null,
   "metadata": {},
   "outputs": [],
   "source": [
    "!pip3 install markdownify\n",
    "!pip3 install -q openai langchain playwright beautifulsoup4\n",
    "!playwright install"
   ]
  },
  {
   "cell_type": "code",
   "execution_count": null,
   "metadata": {},
   "outputs": [],
   "source": [
    "from markdownify import markdownify as md\n",
    "from markdownify import MarkdownConverter\n",
    "\n",
    "\n",
    "def mds(soup, **options):\n",
    "    return MarkdownConverter(**options).convert_soup(soup)"
   ]
  },
  {
   "cell_type": "code",
   "execution_count": null,
   "metadata": {},
   "outputs": [],
   "source": [
    "import requests\n",
    "from bs4 import BeautifulSoup\n",
    "response = requests.get(\"https://microsoft.github.io/autogen/\")\n",
    "soup = BeautifulSoup(response.content, \"html.parser\")\n",
    "print(soup.prettify())"
   ]
  },
  {
   "cell_type": "code",
   "execution_count": null,
   "metadata": {},
   "outputs": [],
   "source": [
    "print(mds(soup))"
   ]
  },
  {
   "cell_type": "code",
   "execution_count": null,
   "metadata": {},
   "outputs": [],
   "source": [
    "print(md(response.content.decode(), strip=['script']))"
   ]
  },
  {
   "cell_type": "code",
   "execution_count": null,
   "metadata": {},
   "outputs": [],
   "source": [
    "response = requests.get(\"https://www.google.com/search?client=safari&rls=en&q=google&ie=UTF-8&oe=UTF-8\")\n",
    "print(response.text)"
   ]
  },
  {
   "cell_type": "markdown",
   "metadata": {},
   "source": [
    "`requests.get` doesn't handle JS and with AutoGen docs there's huge error banner at the top. Using Langchain's `AsyncChromiumLoader` (which in turn is based on `Playwright`) handles that"
   ]
  },
  {
   "cell_type": "code",
   "execution_count": null,
   "metadata": {},
   "outputs": [],
   "source": [
    "from langchain.document_loaders import AsyncChromiumLoader\n",
    "\n",
    "# Load HTML\n",
    "loader = AsyncChromiumLoader([\"https://microsoft.github.io/autogen/\"])\n",
    "\n",
    "\n",
    "import nest_asyncio\n",
    "nest_asyncio.apply()\n",
    "\n",
    "\n",
    "html = loader.load()\n",
    "print(html[0].page_content)\n"
   ]
  },
  {
   "cell_type": "code",
   "execution_count": null,
   "metadata": {},
   "outputs": [],
   "source": [
    "print(md(html[0].page_content))"
   ]
  },
  {
   "cell_type": "code",
   "execution_count": null,
   "metadata": {},
   "outputs": [],
   "source": [
    "from langchain.document_transformers import Html2TextTransformer\n",
    "\n",
    "html2text = Html2TextTransformer(ignore_links=False)\n",
    "docs_transformed = html2text.transform_documents(html)\n",
    "print(docs_transformed[0].page_content)"
   ]
  },
  {
   "cell_type": "code",
   "execution_count": null,
   "metadata": {},
   "outputs": [],
   "source": [
    "soup = BeautifulSoup(html[0].page_content, \"html.parser\")\n",
    "# Here is the Python code snippet to remove all <script> elements from the BeautifulSoup object\n",
    "\n",
    "for script in soup([\"script\"]):\n",
    "    script.decompose()\n",
    "\n",
    "print(mds(soup))"
   ]
  },
  {
   "cell_type": "markdown",
   "metadata": {},
   "source": [
    "Best approach"
   ]
  },
  {
   "cell_type": "code",
   "execution_count": 5,
   "metadata": {},
   "outputs": [
    {
     "name": "stdout",
     "output_type": "stream",
     "text": [
      "\n",
      "\n",
      "\n",
      "\n",
      "\n",
      "\n",
      "AutoGen | AutoGen\n",
      "\n",
      "\n",
      "\n",
      "\n",
      "[Skip to main content](#)[![AutoGen](/autogen/img/ag.svg)**AutoGen**](/autogen/)[Docs](/autogen/docs/Getting-Started)[SDK](/autogen/docs/reference/agentchat/conversable_agent)[Blog](/autogen/blog)[FAQ](/autogen/docs/FAQ)[GitHub](https://github.com/microsoft/autogen)🌜🌞`⌘``K`AutoGen\n",
      "=======\n",
      "\n",
      "Enable Next-Gen Large Language Model Applications\n",
      "\n",
      "[Getting Started - 3min ⏱️](/autogen/docs/getting-started)[### Multi-Agent Conversation Framework](/autogen/docs/Use-Cases/agent_chat)AutoGen provides multi-agent conversation framework as a high-level abstraction. With this framework, one can conveniently build LLM workflows.\n",
      "\n",
      "[### Easily Build Diverse Applications](/autogen/docs/Use-Cases/agent_chat#diverse-applications-implemented-with-autogen)AutoGen offers a collection of working systems spanning a wide range of applications from various domains and complexities.\n",
      "\n",
      "[### Enhanced LLM Inference & Optimization](/autogen/docs/Use-Cases/enhanced_inference)AutoGen supports enhanced LLM inference APIs, which can be used to improve inference performance and reduce cost.\n",
      "\n",
      "Community* [Discord](https://discord.gg/pAbnFJrkgZ)\n",
      "* [Twitter](https://twitter.com/pyautogen)\n",
      "Copyright © 2023 AutoGen Authors.\n",
      "\n",
      "\n",
      "\n"
     ]
    }
   ],
   "source": [
    "from langchain.document_loaders import AsyncChromiumLoader\n",
    "# from langchain.document_transformers import BeautifulSoupTransformer\n",
    "from bs4 import BeautifulSoup\n",
    "from markdownify import markdownify as md\n",
    "from markdownify import MarkdownConverter\n",
    "\n",
    "\n",
    "def mds(soup, **options):\n",
    "    return MarkdownConverter(**options).convert_soup(soup)\n",
    "\n",
    "import nest_asyncio\n",
    "nest_asyncio.apply()\n",
    "\n",
    "# loader = AsyncChromiumLoader([\"https://microsoft.github.io/autogen/\"])\n",
    "loader = AsyncChromiumLoader([\"https://www.google.com/search?client=safari&rls=en&q=google&ie=UTF-8&oe=UTF-8\"])\n",
    "\n",
    "html = loader.load()\n",
    "\n",
    "soup = BeautifulSoup(html[0].page_content, \"html.parser\")\n",
    "for script in soup([\"script\"]):\n",
    "    script.decompose()\n",
    "print(mds(soup))\n",
    "\n",
    "# Doesn't work well\n",
    "# bs_transformer = BeautifulSoupTransformer()\n",
    "# docs_transformed = bs_transformer.transform_documents(\n",
    "#     html, unwanted_tags=[\"script\"]\n",
    "# )\n",
    "\n",
    "# print(md(docs_transformed[0].page_content))"
   ]
  }
 ],
 "metadata": {
  "kernelspec": {
   "display_name": "Python 3",
   "language": "python",
   "name": "python3"
  },
  "language_info": {
   "codemirror_mode": {
    "name": "ipython",
    "version": 3
   },
   "file_extension": ".py",
   "mimetype": "text/x-python",
   "name": "python",
   "nbconvert_exporter": "python",
   "pygments_lexer": "ipython3",
   "version": "3.11.6"
  }
 },
 "nbformat": 4,
 "nbformat_minor": 2
}
